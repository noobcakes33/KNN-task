{
 "cells": [
  {
   "cell_type": "code",
   "execution_count": 1,
   "metadata": {},
   "outputs": [],
   "source": [
    "### Imports\n",
    "import pandas as pd\n",
    "from sklearn.model_selection import train_test_split\n",
    "from sklearn.neighbors import KNeighborsClassifier"
   ]
  },
  {
   "cell_type": "code",
   "execution_count": 2,
   "metadata": {},
   "outputs": [
    {
     "data": {
      "text/html": [
       "<div>\n",
       "<style scoped>\n",
       "    .dataframe tbody tr th:only-of-type {\n",
       "        vertical-align: middle;\n",
       "    }\n",
       "\n",
       "    .dataframe tbody tr th {\n",
       "        vertical-align: top;\n",
       "    }\n",
       "\n",
       "    .dataframe thead th {\n",
       "        text-align: right;\n",
       "    }\n",
       "</style>\n",
       "<table border=\"1\" class=\"dataframe\">\n",
       "  <thead>\n",
       "    <tr style=\"text-align: right;\">\n",
       "      <th></th>\n",
       "      <th>Source node</th>\n",
       "      <th>Dest node</th>\n",
       "      <th>traffic</th>\n",
       "      <th>Optical Reach</th>\n",
       "      <th>Modulation Format</th>\n",
       "      <th>OSNR</th>\n",
       "      <th>num Hops</th>\n",
       "      <th>Q_margin</th>\n",
       "    </tr>\n",
       "  </thead>\n",
       "  <tbody>\n",
       "    <tr>\n",
       "      <th>0</th>\n",
       "      <td>8</td>\n",
       "      <td>3</td>\n",
       "      <td>334.0</td>\n",
       "      <td>480.0</td>\n",
       "      <td>12</td>\n",
       "      <td>21.217</td>\n",
       "      <td>6</td>\n",
       "      <td>2.0</td>\n",
       "    </tr>\n",
       "    <tr>\n",
       "      <th>1</th>\n",
       "      <td>17</td>\n",
       "      <td>26</td>\n",
       "      <td>478.0</td>\n",
       "      <td>2480.0</td>\n",
       "      <td>4</td>\n",
       "      <td>13.835</td>\n",
       "      <td>31</td>\n",
       "      <td>1.0</td>\n",
       "    </tr>\n",
       "    <tr>\n",
       "      <th>2</th>\n",
       "      <td>25</td>\n",
       "      <td>8</td>\n",
       "      <td>705.0</td>\n",
       "      <td>2480.0</td>\n",
       "      <td>4</td>\n",
       "      <td>13.835</td>\n",
       "      <td>31</td>\n",
       "      <td>2.0</td>\n",
       "    </tr>\n",
       "    <tr>\n",
       "      <th>3</th>\n",
       "      <td>10</td>\n",
       "      <td>35</td>\n",
       "      <td>961.0</td>\n",
       "      <td>3520.0</td>\n",
       "      <td>4</td>\n",
       "      <td>12.184</td>\n",
       "      <td>44</td>\n",
       "      <td>0.0</td>\n",
       "    </tr>\n",
       "    <tr>\n",
       "      <th>4</th>\n",
       "      <td>34</td>\n",
       "      <td>16</td>\n",
       "      <td>827.0</td>\n",
       "      <td>400.0</td>\n",
       "      <td>12</td>\n",
       "      <td>22.018</td>\n",
       "      <td>5</td>\n",
       "      <td>2.0</td>\n",
       "    </tr>\n",
       "  </tbody>\n",
       "</table>\n",
       "</div>"
      ],
      "text/plain": [
       "   Source node    Dest node     traffic    Optical Reach    Modulation Format  \\\n",
       "0            8            3       334.0            480.0                   12   \n",
       "1           17           26       478.0           2480.0                    4   \n",
       "2           25            8       705.0           2480.0                    4   \n",
       "3           10           35       961.0           3520.0                    4   \n",
       "4           34           16       827.0            400.0                   12   \n",
       "\n",
       "     OSNR    num Hops      Q_margin  \n",
       "0  21.217           6           2.0  \n",
       "1  13.835          31           1.0  \n",
       "2  13.835          31           2.0  \n",
       "3  12.184          44           0.0  \n",
       "4  22.018           5           2.0  "
      ]
     },
     "execution_count": 2,
     "metadata": {},
     "output_type": "execute_result"
    }
   ],
   "source": [
    "### read dataset\n",
    "df = pd.read_csv('parameter_calculation.dat', sep=',',skiprows=1)\n",
    "df.head()"
   ]
  },
  {
   "cell_type": "code",
   "execution_count": 3,
   "metadata": {},
   "outputs": [
    {
     "data": {
      "text/plain": [
       "Index(['Source node', '  Dest node', '   traffic', '  Optical Reach',\n",
       "       '  Modulation Format', '  OSNR', '  num Hops', '    Q_margin'],\n",
       "      dtype='object')"
      ]
     },
     "execution_count": 3,
     "metadata": {},
     "output_type": "execute_result"
    }
   ],
   "source": [
    "df.columns"
   ]
  },
  {
   "cell_type": "code",
   "execution_count": 4,
   "metadata": {},
   "outputs": [],
   "source": [
    "### modyfing the column names (removing the extra space after reading the messy .dat file)\n",
    "df.columns = ['Source node', 'Dest node', 'traffic', 'Optical Reach', 'Modulation Format', 'num Hops', 'OSNR','Q_margin']"
   ]
  },
  {
   "cell_type": "code",
   "execution_count": 5,
   "metadata": {},
   "outputs": [
    {
     "data": {
      "text/html": [
       "<div>\n",
       "<style scoped>\n",
       "    .dataframe tbody tr th:only-of-type {\n",
       "        vertical-align: middle;\n",
       "    }\n",
       "\n",
       "    .dataframe tbody tr th {\n",
       "        vertical-align: top;\n",
       "    }\n",
       "\n",
       "    .dataframe thead th {\n",
       "        text-align: right;\n",
       "    }\n",
       "</style>\n",
       "<table border=\"1\" class=\"dataframe\">\n",
       "  <thead>\n",
       "    <tr style=\"text-align: right;\">\n",
       "      <th></th>\n",
       "      <th>Source node</th>\n",
       "      <th>Dest node</th>\n",
       "      <th>traffic</th>\n",
       "      <th>Optical Reach</th>\n",
       "      <th>Modulation Format</th>\n",
       "      <th>num Hops</th>\n",
       "      <th>OSNR</th>\n",
       "      <th>Q_margin</th>\n",
       "    </tr>\n",
       "  </thead>\n",
       "  <tbody>\n",
       "    <tr>\n",
       "      <th>0</th>\n",
       "      <td>8</td>\n",
       "      <td>3</td>\n",
       "      <td>334.0</td>\n",
       "      <td>480.0</td>\n",
       "      <td>12</td>\n",
       "      <td>21.217</td>\n",
       "      <td>6</td>\n",
       "      <td>2.0</td>\n",
       "    </tr>\n",
       "    <tr>\n",
       "      <th>1</th>\n",
       "      <td>17</td>\n",
       "      <td>26</td>\n",
       "      <td>478.0</td>\n",
       "      <td>2480.0</td>\n",
       "      <td>4</td>\n",
       "      <td>13.835</td>\n",
       "      <td>31</td>\n",
       "      <td>1.0</td>\n",
       "    </tr>\n",
       "    <tr>\n",
       "      <th>2</th>\n",
       "      <td>25</td>\n",
       "      <td>8</td>\n",
       "      <td>705.0</td>\n",
       "      <td>2480.0</td>\n",
       "      <td>4</td>\n",
       "      <td>13.835</td>\n",
       "      <td>31</td>\n",
       "      <td>2.0</td>\n",
       "    </tr>\n",
       "    <tr>\n",
       "      <th>3</th>\n",
       "      <td>10</td>\n",
       "      <td>35</td>\n",
       "      <td>961.0</td>\n",
       "      <td>3520.0</td>\n",
       "      <td>4</td>\n",
       "      <td>12.184</td>\n",
       "      <td>44</td>\n",
       "      <td>0.0</td>\n",
       "    </tr>\n",
       "    <tr>\n",
       "      <th>4</th>\n",
       "      <td>34</td>\n",
       "      <td>16</td>\n",
       "      <td>827.0</td>\n",
       "      <td>400.0</td>\n",
       "      <td>12</td>\n",
       "      <td>22.018</td>\n",
       "      <td>5</td>\n",
       "      <td>2.0</td>\n",
       "    </tr>\n",
       "  </tbody>\n",
       "</table>\n",
       "</div>"
      ],
      "text/plain": [
       "   Source node  Dest node  traffic  Optical Reach  Modulation Format  \\\n",
       "0            8          3    334.0          480.0                 12   \n",
       "1           17         26    478.0         2480.0                  4   \n",
       "2           25          8    705.0         2480.0                  4   \n",
       "3           10         35    961.0         3520.0                  4   \n",
       "4           34         16    827.0          400.0                 12   \n",
       "\n",
       "   num Hops  OSNR  Q_margin  \n",
       "0    21.217     6       2.0  \n",
       "1    13.835    31       1.0  \n",
       "2    13.835    31       2.0  \n",
       "3    12.184    44       0.0  \n",
       "4    22.018     5       2.0  "
      ]
     },
     "execution_count": 5,
     "metadata": {},
     "output_type": "execute_result"
    }
   ],
   "source": [
    "df.head()"
   ]
  },
  {
   "cell_type": "code",
   "execution_count": 6,
   "metadata": {},
   "outputs": [
    {
     "data": {
      "text/plain": [
       "Index(['Source node', 'Dest node', 'traffic', 'Optical Reach',\n",
       "       'Modulation Format', 'num Hops', 'OSNR', 'Q_margin'],\n",
       "      dtype='object')"
      ]
     },
     "execution_count": 6,
     "metadata": {},
     "output_type": "execute_result"
    }
   ],
   "source": [
    "### check the column names after removing spaces\n",
    "df.columns"
   ]
  },
  {
   "cell_type": "code",
   "execution_count": 7,
   "metadata": {},
   "outputs": [],
   "source": [
    "### specifying the features and labels\n",
    "feature_cols = ['Source node', 'Dest node', 'traffic', 'Optical Reach', 'Modulation Format', 'num Hops', 'Q_margin']\n",
    "X = df[feature_cols] # Features\n",
    "y = df.OSNR # Target variable"
   ]
  },
  {
   "cell_type": "code",
   "execution_count": 8,
   "metadata": {},
   "outputs": [],
   "source": [
    "# Split dataset into training set and test set\n",
    "X_train, X_test, y_train, y_test = train_test_split(X, y, test_size=0.3, random_state=1) # 70% training and 30% test"
   ]
  },
  {
   "cell_type": "code",
   "execution_count": 9,
   "metadata": {},
   "outputs": [
    {
     "data": {
      "text/plain": [
       "KNeighborsClassifier(algorithm='auto', leaf_size=30, metric='minkowski',\n",
       "           metric_params=None, n_jobs=None, n_neighbors=5, p=2,\n",
       "           weights='uniform')"
      ]
     },
     "execution_count": 9,
     "metadata": {},
     "output_type": "execute_result"
    }
   ],
   "source": [
    "### Creating the KNN Classifier & fitting the train dataset\n",
    "neigh = KNeighborsClassifier(n_neighbors=5)\n",
    "neigh.fit(X_train, y_train)"
   ]
  },
  {
   "cell_type": "code",
   "execution_count": 10,
   "metadata": {},
   "outputs": [
    {
     "data": {
      "text/plain": [
       "0.9999314739943809"
      ]
     },
     "execution_count": 10,
     "metadata": {},
     "output_type": "execute_result"
    }
   ],
   "source": [
    "### Check Test Accuracy\n",
    "neigh.score(X_test, y_test)"
   ]
  },
  {
   "cell_type": "code",
   "execution_count": 10,
   "metadata": {},
   "outputs": [],
   "source": [
    "y_pred = neigh.predict(X_test)"
   ]
  },
  {
   "cell_type": "code",
   "execution_count": 12,
   "metadata": {},
   "outputs": [],
   "source": [
    "from sklearn.metrics import confusion_matrix\n",
    "cm = confusion_matrix(y_test, y_pred)"
   ]
  },
  {
   "cell_type": "code",
   "execution_count": 25,
   "metadata": {},
   "outputs": [
    {
     "data": {
      "text/plain": [
       "array([[ 17,   0,   0, ...,   0,   0,   0],\n",
       "       [  0, 112,   0, ...,   0,   0,   0],\n",
       "       [  0,   0, 103, ...,   0,   0,   0],\n",
       "       ...,\n",
       "       [  0,   0,   0, ...,  37,   0,   0],\n",
       "       [  0,   0,   0, ...,   0,  15,   0],\n",
       "       [  0,   0,   0, ...,   0,   0,  13]])"
      ]
     },
     "execution_count": 25,
     "metadata": {},
     "output_type": "execute_result"
    }
   ],
   "source": [
    "cm"
   ]
  },
  {
   "cell_type": "code",
   "execution_count": 14,
   "metadata": {},
   "outputs": [
    {
     "data": {
      "text/plain": [
       "Text(0.5, 1.0, 'Confusion matrix')"
      ]
     },
     "execution_count": 14,
     "metadata": {},
     "output_type": "execute_result"
    },
    {
     "data": {
      "image/png": "[encoded data removed]",
      "text/plain": [
       "<Figure size 432x288 with 2 Axes>"
      ]
     },
     "metadata": {
      "needs_background": "light"
     },
     "output_type": "display_data"
    }
   ],
   "source": [
    "import seaborn as sns\n",
    "sns.heatmap(cm, annot=True).set_title('Confusion matrix')"
   ]
  },
  {
   "cell_type": "code",
   "execution_count": null,
   "metadata": {},
   "outputs": [],
   "source": []
  }
 ],
 "metadata": {
  "kernelspec": {
   "display_name": "Python 3",
   "language": "python",
   "name": "python3"
  },
  "language_info": {
   "codemirror_mode": {
    "name": "ipython",
    "version": 3
   },
   "file_extension": ".py",
   "mimetype": "text/x-python",
   "name": "python",
   "nbconvert_exporter": "python",
   "pygments_lexer": "ipython3",
   "version": "3.8.2"
  }
 },
 "nbformat": 4,
 "nbformat_minor": 2
}
